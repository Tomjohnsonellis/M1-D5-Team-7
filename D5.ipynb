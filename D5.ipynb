
    Lorem ipsum dolor sit amet, consectetur adipiscing elit.
    Nulla dictum purus ac hendrerit sollicitudin.
    Etiam mattis elit in nisl commodo cursus eget quis urna.

    Nulla eget risus in nisl blandit faucibus.
    Phasellus pellentesque lorem vitae dolor bibendum, vitae finibus tortor volutpat.
    Nullam at tellus id nibh pulvinar placerat.
    Quisque imperdiet sem quis quam vulputate facilisis hendrerit ullamcorper elit.

    Nam placerat lectus vel urna varius, sed accumsan mauris laoreet.
    Quisque eu ex id quam bibendum gravida.
    Donec tristique lorem vel tortor rutrum venenatis.
    Integer efficitur dolor sed lacus semper, vitae lobortis est ornare.
    Nunc sed ipsum finibus, semper ex sit amet, sollicitudin libero.

    Aliquam porttitor dolor eu eros sollicitudin bibendum.
    Maecenas sollicitudin urna eget molestie maximus.

    Lorem ipsum dolor sit amet, consectetur adipiscing elit.
    Nulla dictum purus ac hendrerit sollicitudin.
    Etiam mattis elit in nisl commodo cursus eget quis urna.

    Nulla eget risus in nisl blandit faucibus.
    Phasellus pellentesque lorem vitae dolor bibendum, vitae finibus tortor volutpat.
    Nullam at tellus id nibh pulvinar placerat.
    Quisque imperdiet sem quis quam vulputate facilisis hendrerit ullamcorper elit.

    Nam placerat lectus vel urna varius, sed accumsan mauris laoreet.
    Quisque eu ex id quam bibendum gravida.
    Donec tristique lorem vel tortor rutrum venenatis.
    Integer efficitur dolor sed lacus semper, vitae lobortis est ornare.
    Nunc sed ipsum finibus, semper ex sit amet, sollicitudin libero.

    Aliquam porttitor dolor eu eros sollicitudin bibendum.
    Maecenas sollicitudin urna eget molestie maximus.

    Lorem ipsum dolor sit amet, consectetur adipiscing elit.
    Nulla dictum purus ac hendrerit sollicitudin.
    Etiam mattis elit in nisl commodo cursus eget quis urna.

    Nulla eget risus in nisl blandit faucibus.
    Phasellus pellentesque lorem vitae dolor bibendum, vitae finibus tortor volutpat.
    Nullam at tellus id nibh pulvinar placerat.
    Quisque imperdiet sem quis quam vulputate facilisis hendrerit ullamcorper elit.

    Nam placerat lectus vel urna varius, sed accumsan mauris laoreet.
    Quisque eu ex id quam bibendum gravida.
    Donec tristique lorem vel tortor rutrum venenatis.
    Integer efficitur dolor sed lacus semper, vitae lobortis est ornare.
    Nunc sed ipsum finibus, semper ex sit amet, sollicitudin libero.

    Aliquam porttitor dolor eu eros sollicitudin bibendum.
    Maecenas sollicitudin urna eget molestie maximus.

    Lorem ipsum dolor sit amet, consectetur adipiscing elit.
    Nulla dictum purus ac hendrerit sollicitudin.
    Etiam mattis elit in nisl commodo cursus eget quis urna.

    Nulla eget risus in nisl blandit faucibus.
    Phasellus pellentesque lorem vitae dolor bibendum, vitae finibus tortor volutpat.
    Nullam at tellus id nibh pulvinar placerat.
    Quisque imperdiet sem quis quam vulputate facilisis hendrerit ullamcorper elit.

    Nam placerat lectus vel urna varius, sed accumsan mauris laoreet.
    Quisque eu ex id quam bibendum gravida.
    Donec tristique lorem vel tortor rutrum venenatis.
    Integer efficitur dolor sed lacus semper, vitae lobortis est ornare.
    Nunc sed ipsum finibus, semper ex sit amet, sollicitudin libero.

    Aliquam porttitor dolor eu eros sollicitudin bibendum.
    Maecenas sollicitudin urna eget molestie maximus.

    Lorem ipsum dolor sit amet, consectetur adipiscing elit.
    Nulla dictum purus ac hendrerit sollicitudin.
    Etiam mattis elit in nisl commodo cursus eget quis urna.

    Nulla eget risus in nisl blandit faucibus.
    Phasellus pellentesque lorem vitae dolor bibendum, vitae finibus tortor volutpat.
    Nullam at tellus id nibh pulvinar placerat.
    Quisque imperdiet sem quis quam vulputate facilisis hendrerit ullamcorper elit.

    Nam placerat lectus vel urna varius, sed accumsan mauris laoreet.
    Quisque eu ex id quam bibendum gravida.
    Donec tristique lorem vel tortor rutrum venenatis.
    Integer efficitur dolor sed lacus semper, vitae lobortis est ornare.
    Nunc sed ipsum finibus, semper ex sit amet, sollicitudin libero.

    Aliquam porttitor dolor eu eros sollicitudin bibendum.
    Maecenas sollicitudin urna eget molestie maximus.

    Lorem ipsum dolor sit amet, consectetur adipiscing elit.
    Nulla dictum purus ac hendrerit sollicitudin.
    Etiam mattis elit in nisl commodo cursus eget quis urna.

    Nulla eget risus in nisl blandit faucibus.
    Phasellus pellentesque lorem vitae dolor bibendum, vitae finibus tortor volutpat.
    Nullam at tellus id nibh pulvinar placerat.
    Quisque imperdiet sem quis quam vulputate facilisis hendrerit ullamcorper elit.

    Nam placerat lectus vel urna varius, sed accumsan mauris laoreet.
    Quisque eu ex id quam bibendum gravida.
    Donec tristique lorem vel tortor rutrum venenatis.
    Integer efficitur dolor sed lacus semper, vitae lobortis est ornare.
    Nunc sed ipsum finibus, semper ex sit amet, sollicitudin libero.

    Aliquam porttitor dolor eu eros sollicitudin bibendum.
    Maecenas sollicitudin urna eget molestie maximus.

    Lorem ipsum dolor sit amet, consectetur adipiscing elit.
    Nulla dictum purus ac hendrerit sollicitudin.
    Etiam mattis elit in nisl commodo cursus eget quis urna.

    Nulla eget risus in nisl blandit faucibus.
    Phasellus pellentesque lorem vitae dolor bibendum, vitae finibus tortor volutpat.
    Nullam at tellus id nibh pulvinar placerat.
    Quisque imperdiet sem quis quam vulputate facilisis hendrerit ullamcorper elit.

    Nam placerat lectus vel urna varius, sed accumsan mauris laoreet.
    Quisque eu ex id quam bibendum gravida.
    Donec tristique lorem vel tortor rutrum venenatis.
    Integer efficitur dolor sed lacus semper, vitae lobortis est ornare.
    Nunc sed ipsum finibus, semper ex sit amet, sollicitudin libero.

    Aliquam porttitor dolor eu eros sollicitudin bibendum.
    Maecenas sollicitudin urna eget molestie maximus.
